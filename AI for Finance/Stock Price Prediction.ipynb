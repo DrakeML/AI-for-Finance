{
 "cells": [
  {
   "cell_type": "code",
   "execution_count": 321,
   "metadata": {},
   "outputs": [],
   "source": [
    "import pandas as pd\n",
    "import numpy as np\n",
    "from matplotlib import pyplot as plt"
   ]
  },
  {
   "cell_type": "code",
   "execution_count": 322,
   "metadata": {},
   "outputs": [],
   "source": [
    "data = pd.read_csv('AAPL.csv')"
   ]
  },
  {
   "cell_type": "markdown",
   "metadata": {},
   "source": [
    "# Preprocessing"
   ]
  },
  {
   "cell_type": "code",
   "execution_count": 323,
   "metadata": {},
   "outputs": [],
   "source": [
    "data = data.drop(columns=['Date', 'Adj Close'])"
   ]
  },
  {
   "cell_type": "code",
   "execution_count": 324,
   "metadata": {},
   "outputs": [],
   "source": [
    "values = data.values"
   ]
  },
  {
   "cell_type": "code",
   "execution_count": 325,
   "metadata": {},
   "outputs": [
    {
     "data": {
      "text/plain": [
       "array([[2.93542860e+01, 2.97142850e+01, 2.92871440e+01, 2.95185720e+01,\n",
       "        1.21301600e+08],\n",
       "       [2.94400010e+01, 2.96342850e+01, 2.92857150e+01, 2.95714280e+01,\n",
       "        9.91284000e+07],\n",
       "       [2.95057140e+01, 2.95714280e+01, 2.91428570e+01, 2.94228570e+01,\n",
       "        9.35802000e+07],\n",
       "       ...,\n",
       "       [2.61130005e+02, 2.64779999e+02, 2.61070007e+02, 2.64470001e+02,\n",
       "        2.56836000e+07],\n",
       "       [2.63750000e+02, 2.64880005e+02, 2.62100006e+02, 2.62640015e+02,\n",
       "        2.22957000e+07],\n",
       "       [2.63679993e+02, 2.65779999e+02, 2.63010010e+02, 2.65760010e+02,\n",
       "        2.50516000e+07]])"
      ]
     },
     "execution_count": 325,
     "metadata": {},
     "output_type": "execute_result"
    }
   ],
   "source": [
    "values"
   ]
  },
  {
   "cell_type": "code",
   "execution_count": 326,
   "metadata": {},
   "outputs": [],
   "source": [
    "X = values"
   ]
  },
  {
   "cell_type": "code",
   "execution_count": 327,
   "metadata": {},
   "outputs": [],
   "source": [
    "y = values[:,3]"
   ]
  },
  {
   "cell_type": "code",
   "execution_count": 328,
   "metadata": {},
   "outputs": [],
   "source": [
    "shifted_y = list(y)\n",
    "shifted_y.pop(0)\n",
    "shifted_y.append(None)"
   ]
  },
  {
   "cell_type": "code",
   "execution_count": 329,
   "metadata": {},
   "outputs": [],
   "source": [
    "y = shifted_y"
   ]
  },
  {
   "cell_type": "code",
   "execution_count": 330,
   "metadata": {},
   "outputs": [],
   "source": [
    "#Split data into train and test data\n",
    "lx = len(X)\n",
    "trs = int(lx*.8)\n",
    "X_train, y_train = X[:trs], y[:trs]\n",
    "X_test, y_test = X[trs:], y[trs:]"
   ]
  },
  {
   "cell_type": "code",
   "execution_count": 331,
   "metadata": {},
   "outputs": [],
   "source": [
    "from keras.models import Sequential, load_model\n",
    "from keras.layers import Dense, LSTM, Flatten"
   ]
  },
  {
   "cell_type": "code",
   "execution_count": 332,
   "metadata": {},
   "outputs": [],
   "source": [
    "import math"
   ]
  },
  {
   "cell_type": "markdown",
   "metadata": {},
   "source": [
    "# Train Model"
   ]
  },
  {
   "cell_type": "code",
   "execution_count": 333,
   "metadata": {},
   "outputs": [],
   "source": [
    "batches = 2\n",
    "#reshape data for lstm\n",
    "X_train = np.reshape(X_train, (X_train.shape[0], 1, X_train.shape[1]))\n",
    "X_test = np.reshape(X_test, (X_test.shape[0], 1, X_test.shape[1]))"
   ]
  },
  {
   "cell_type": "code",
   "execution_count": 334,
   "metadata": {},
   "outputs": [],
   "source": [
    "#input_shape[0] = num of past data we want to use, input_shape[1] = num of variables used to predict\n",
    "input_shape = (X_train.shape[1], X_train.shape[2])\n",
    "model = Sequential()\n",
    "model.add(LSTM(60, input_shape = input_shape, stateful=True, batch_input_shape = (batches, input_shape[0], input_shape[1])))\n",
    "model.add(Dense(1))"
   ]
  },
  {
   "cell_type": "code",
   "execution_count": 335,
   "metadata": {},
   "outputs": [],
   "source": [
    "model.compile(loss='mean_squared_error', optimizer='adam', metrics=['mse','mape'])"
   ]
  },
  {
   "cell_type": "code",
   "execution_count": 336,
   "metadata": {
    "scrolled": false
   },
   "outputs": [
    {
     "name": "stdout",
     "output_type": "stream",
     "text": [
      "Train on 2014 samples, validate on 504 samples\n",
      "Epoch 1/17\n",
      " - 3s - loss: 6830.4998 - mean_squared_error: 6830.4998 - mean_absolute_percentage_error: 90.7794 - val_loss: nan - val_mean_squared_error: nan - val_mean_absolute_percentage_error: nan\n",
      "Epoch 2/17\n",
      " - 1s - loss: 4814.8382 - mean_squared_error: 4814.8382 - mean_absolute_percentage_error: 67.6925 - val_loss: nan - val_mean_squared_error: nan - val_mean_absolute_percentage_error: nan\n",
      "Epoch 3/17\n",
      " - 1s - loss: 3476.4983 - mean_squared_error: 3476.4983 - mean_absolute_percentage_error: 51.0219 - val_loss: nan - val_mean_squared_error: nan - val_mean_absolute_percentage_error: nan\n",
      "Epoch 4/17\n",
      " - 2s - loss: 2538.8345 - mean_squared_error: 2538.8345 - mean_absolute_percentage_error: 41.6651 - val_loss: nan - val_mean_squared_error: nan - val_mean_absolute_percentage_error: nan\n",
      "Epoch 5/17\n",
      " - 2s - loss: 1914.6831 - mean_squared_error: 1914.6831 - mean_absolute_percentage_error: 37.5359 - val_loss: nan - val_mean_squared_error: nan - val_mean_absolute_percentage_error: nan\n",
      "Epoch 6/17\n",
      " - 2s - loss: 1534.2867 - mean_squared_error: 1534.2867 - mean_absolute_percentage_error: 37.1485 - val_loss: nan - val_mean_squared_error: nan - val_mean_absolute_percentage_error: nan\n",
      "Epoch 7/17\n",
      " - 1s - loss: 1330.1633 - mean_squared_error: 1330.1633 - mean_absolute_percentage_error: 38.5050 - val_loss: nan - val_mean_squared_error: nan - val_mean_absolute_percentage_error: nan\n",
      "Epoch 8/17\n",
      " - 1s - loss: 1238.7054 - mean_squared_error: 1238.7054 - mean_absolute_percentage_error: 40.2044 - val_loss: nan - val_mean_squared_error: nan - val_mean_absolute_percentage_error: nan\n",
      "Epoch 9/17\n",
      " - 1s - loss: 1208.3391 - mean_squared_error: 1208.3391 - mean_absolute_percentage_error: 42.0373 - val_loss: nan - val_mean_squared_error: nan - val_mean_absolute_percentage_error: nan\n",
      "Epoch 10/17\n",
      " - 1s - loss: 1205.1039 - mean_squared_error: 1205.1039 - mean_absolute_percentage_error: 43.5400 - val_loss: nan - val_mean_squared_error: nan - val_mean_absolute_percentage_error: nan\n",
      "Epoch 11/17\n",
      " - 1s - loss: 1211.0036 - mean_squared_error: 1211.0036 - mean_absolute_percentage_error: 44.6623 - val_loss: nan - val_mean_squared_error: nan - val_mean_absolute_percentage_error: nan\n",
      "Epoch 12/17\n",
      " - 1s - loss: 1218.3420 - mean_squared_error: 1218.3420 - mean_absolute_percentage_error: 45.4385 - val_loss: nan - val_mean_squared_error: nan - val_mean_absolute_percentage_error: nan\n",
      "Epoch 13/17\n",
      " - 1s - loss: 1224.5536 - mean_squared_error: 1224.5536 - mean_absolute_percentage_error: 45.9518 - val_loss: nan - val_mean_squared_error: nan - val_mean_absolute_percentage_error: nan\n",
      "Epoch 14/17\n",
      " - 1s - loss: 1229.1481 - mean_squared_error: 1229.1481 - mean_absolute_percentage_error: 46.2879 - val_loss: nan - val_mean_squared_error: nan - val_mean_absolute_percentage_error: nan\n",
      "Epoch 15/17\n",
      " - 1s - loss: 1232.3484 - mean_squared_error: 1232.3484 - mean_absolute_percentage_error: 46.5081 - val_loss: nan - val_mean_squared_error: nan - val_mean_absolute_percentage_error: nan\n",
      "Epoch 16/17\n",
      " - 1s - loss: 1234.5025 - mean_squared_error: 1234.5025 - mean_absolute_percentage_error: 46.6506 - val_loss: nan - val_mean_squared_error: nan - val_mean_absolute_percentage_error: nan\n",
      "Epoch 17/17\n",
      " - 2s - loss: 1235.9241 - mean_squared_error: 1235.9241 - mean_absolute_percentage_error: 46.7426 - val_loss: nan - val_mean_squared_error: nan - val_mean_absolute_percentage_error: nan\n"
     ]
    }
   ],
   "source": [
    "epochs = 17\n",
    "history = model.fit(X_train, y_train, verbose=2, epochs=epochs, batch_size=batches, validation_data=(X_test, y_test), shuffle=False)"
   ]
  },
  {
   "cell_type": "code",
   "execution_count": null,
   "metadata": {},
   "outputs": [],
   "source": []
  },
  {
   "cell_type": "code",
   "execution_count": null,
   "metadata": {},
   "outputs": [],
   "source": []
  }
 ],
 "metadata": {
  "kernelspec": {
   "display_name": "Python 3",
   "language": "python",
   "name": "python3"
  },
  "language_info": {
   "codemirror_mode": {
    "name": "ipython",
    "version": 3
   },
   "file_extension": ".py",
   "mimetype": "text/x-python",
   "name": "python",
   "nbconvert_exporter": "python",
   "pygments_lexer": "ipython3",
   "version": "3.6.9"
  }
 },
 "nbformat": 4,
 "nbformat_minor": 2
}
